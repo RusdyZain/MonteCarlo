{
 "cells": [
  {
   "attachments": {},
   "cell_type": "markdown",
   "metadata": {},
   "source": [
    "## JUDUL: Prediksi Pendapatan Terbesar pada Penjualan Produk Cat dengan Menggunakan Metode Monte Carlo"
   ]
  },
  {
   "attachments": {},
   "cell_type": "markdown",
   "metadata": {},
   "source": [
    "## LATAR BELAKANG"
   ]
  },
  {
   "attachments": {},
   "cell_type": "markdown",
   "metadata": {},
   "source": [
    "Ketersediaan produk cat dalam pemenuhan konsumen merupakan permasalah yang harus\n",
    "di atasi. Keadaan stok suatu barang sangat mempengaruhi pendapatan penjualan. Jumlah\n",
    "permintaan barang yang meningkat, maka akan memperoleh pendapatan yang besar.\n",
    "Tujuan dari penelitian ini adalah untuk memprediksi pendapatan penjualan produk cat di\n",
    "Toko Bangunan UD.\n",
    "Dapat disimpulkan bahwa perusahaan memerlukan sebuah sistem yang mampu melakukan\n",
    "prediksi pendapatan penjualan produk cat yang akan memudahkan pihak perusahaaan\n",
    "untuk melakukan persediaan cat yang banyak diminati oleh konsumen."
   ]
  },
  {
   "attachments": {},
   "cell_type": "markdown",
   "metadata": {},
   "source": [
    "## METODE YANG DIGUNAKAN"
   ]
  },
  {
   "attachments": {},
   "cell_type": "markdown",
   "metadata": {},
   "source": [
    "Metode yang digunakan dalam penelitian ini adalah metode monte carlo. Metode Monte Carlo adalah\n",
    "suatu metode untuk mengevaluasi secara berulang suatu model deterministik menggunakan himpunan\n",
    "bilangan acak sebagai masukan, Metode Monte Carlo pada dasarnya digunakan sebagai prosedur numerik\n",
    "untuk menaksir nilai ekspektasi dari suatu peubah acak . Metode Monte Carlo merupakan perhitungan numerik\n",
    "yang mengandung intergral multidimensi yang digunakan dalam komputasi keuangan. Kelebihan metode\n",
    "Monte Carlo diantaranya:\n",
    "\n",
    "1.  Metode monte carlo ini dapat mengevaluasi pengaruh atau hubungan, maupun\n",
    "    dampak dari peristiwa risiko.\n",
    "\n",
    "2.  Metode monte carlo ini mampu mengakomodasi berbagai jenis distribusi dalam\n",
    "    variabel input.\n",
    "\n",
    "3.  Metode monte carlo ini menggunakan permodelan yang relatif sederhana dan\n",
    "    mudah untuk dikembangkan atau diperluas sesuai kebutuhan analisis yang muncul.\n",
    "\n",
    "4.  Metode monte carlo ini menyajikan pengukuran keakuratan hasil.\n"
   ]
  },
  {
   "attachments": {},
   "cell_type": "markdown",
   "metadata": {},
   "source": [
    "## IMPORT LIBRARY"
   ]
  },
  {
   "cell_type": "code",
   "execution_count": 1295,
   "metadata": {},
   "outputs": [],
   "source": [
    "import numpy as np\n",
    "import pandas as pd\n",
    "import matplotlib.pyplot as plt\n",
    "import scipy.stats as stats\n",
    "from scipy.stats import f\n",
    "import random"
   ]
  },
  {
   "attachments": {},
   "cell_type": "markdown",
   "metadata": {},
   "source": [
    "PENJELASAN LIBRARY:\n",
    "\n",
    "numpy: menyediakan fungsi yang siap pakai untuk memudahkan kita melakukan perhitungan saintifik seperti matriks, aljabar, statistik, dan sebagainya.\n",
    "\n",
    "pandas: untuk memproses data, mulai pembersihan data, manipulasi data, hingga melakukan analisis data.\n",
    "\n",
    "matplotlib.pyplot: untuk melakukan visualisasi data secara 2D maupun 3D dan menghasilkan suatu gambar yang berkualitas bahkan dapat disimpan dengan format gambar seperti JPEG, JPG, dan PNG.\n",
    "\n",
    "scipy.stats: menyediakan rutinitas numerik yang mudah digunakan dan efisien untuk aljabar linier, statistik, integrasi, dan optimisasi. Penggunannya meliputi pemrosesan gambar multidimensi, penyelesaian transformasi Fourier, dan persamaan diferensial.\n",
    "\n",
    "random: untuk menghasilkan bilangan acak/random"
   ]
  },
  {
   "attachments": {},
   "cell_type": "markdown",
   "metadata": {},
   "source": [
    "## Akses Data Set"
   ]
  },
  {
   "cell_type": "code",
   "execution_count": 1296,
   "metadata": {},
   "outputs": [
    {
     "name": "stdout",
     "output_type": "stream",
     "text": [
      "Data 1: [11  6  4 10 12  3  3  4 12  2  4  4]\n",
      "Data 2: [12  3  6 10  3  6 12  4  4  6 11 12]\n",
      "Demand Probability: [0.15, 0.08, 0.05, 0.13, 0.16, 0.04, 0.04, 0.05, 0.16, 0.03, 0.05, 0.05]\n"
     ]
    }
   ],
   "source": [
    "# Data grup dari file Excel\n",
    "data = pd.read_excel('DataSet.xlsx', engine='openpyxl', header=None, usecols=\"A:B\", skiprows=1)\n",
    "group1 = np.array(data.iloc[:, 0], dtype=int)\n",
    "group2 = np.array(data.iloc[:, 1], dtype=int)\n",
    "\n",
    "print(\"Data 1:\",group1)\n",
    "print(\"Data 2:\",group2)\n",
    "\n",
    "# Menghitung total jumlah kejadian\n",
    "total_count = sum(group1)\n",
    "\n",
    "# Menghitung demand probability untuk setiap permintaan\n",
    "demand_probability = [round(count / total_count, 2) for count in group1]\n",
    "\n",
    "print(\"Demand Probability:\", demand_probability)"
   ]
  },
  {
   "attachments": {},
   "cell_type": "markdown",
   "metadata": {},
   "source": [
    "## UJI NORMALISASI"
   ]
  },
  {
   "cell_type": "code",
   "execution_count": 1297,
   "metadata": {},
   "outputs": [
    {
     "name": "stdout",
     "output_type": "stream",
     "text": [
      "    Data  Rank    Indeks  Formula Z-Score       PDF\n",
      "0   0.15    10  0.785714         0.791639  0.291626\n",
      "1   0.08     8  0.622449         0.311919  0.380000\n",
      "2   0.05     4  0.295918        -0.536176  0.345528\n",
      "3   0.13     9  0.704082         0.536176  0.345528\n",
      "4   0.16    11  0.867347         1.113937  0.214517\n",
      "5   0.04     2  0.132653        -1.113937  0.214517\n",
      "6   0.04     2  0.132653        -1.113937  0.214517\n",
      "7   0.05     4  0.295918        -0.536176  0.345528\n",
      "8   0.16    11  0.867347         1.113937  0.214517\n",
      "9   0.03     1  0.051020        -1.635039  0.104809\n",
      "10  0.05     4  0.295918        -0.536176  0.345528\n",
      "11  0.05     4  0.295918        -0.536176  0.345528\n",
      "Correlation =  0.9517954081175038\n",
      "Hasil : Data Normal\n"
     ]
    },
    {
     "data": {
      "image/png": "[encoded data removed]",
      "text/plain": [
       "<Figure size 640x480 with 1 Axes>"
      ]
     },
     "metadata": {},
     "output_type": "display_data"
    }
   ],
   "source": [
    "Norm = pd.DataFrame({\"Data\": demand_probability})\n",
    "\n",
    "\n",
    "Norm[\"Rank\"] = Norm[\"Data\"].rank(method=\"min\", ascending=True).astype(int)\n",
    "Norm[\"Indeks\"] = (Norm[\"Rank\"] - 3 / 8) / (len(Norm) + 1 / 4)\n",
    "Norm[\"Formula Z-Score\"] = stats.norm.ppf(Norm[\"Indeks\"], 0, 1)\n",
    "Norm[\"PDF\"] = stats.norm.pdf(Norm[\"Formula Z-Score\"], loc=0, scale=1)\n",
    "\n",
    "corr = Norm[\"Data\"].corr(Norm[\"Formula Z-Score\"])\n",
    "print(Norm)\n",
    "print(\"Correlation = \", corr)\n",
    "if corr > 0.05:\n",
    "    print(\"Hasil : Data Normal\")\n",
    "else:\n",
    "    print(\"Hasil : Data Tidak Normal\")\n",
    "\n",
    "plt.scatter(Norm[\"Formula Z-Score\"], Norm[\"PDF\"])\n",
    "\n",
    "\n",
    "plt.show()"
   ]
  },
  {
   "attachments": {},
   "cell_type": "markdown",
   "metadata": {},
   "source": [
    "PENJELASAN UJI NORMALISASI:\n",
    "\n"
   ]
  },
  {
   "attachments": {},
   "cell_type": "markdown",
   "metadata": {},
   "source": [
    "Pertama-tama kita perlu membuat variabel Norm dengan fungsi DataFrame yang berisi satu kolom yang berisi serangkaian niali numerik sesuai dengan isi pada code di atas.\n",
    "\n",
    "Menambahkan kolom Rank ke dalam DataFrame untuk memberikan rank ke setiap nilai.\n",
    "\n",
    "Menambahkan kolom Indeks ke dalam DataFrame untuk menghitung nilai indeks relatif seriap nilai dalam distribusi data.\n",
    "\n",
    "Menambahkan kolom \"Formula Z-Score\" ke DataFrame \"Norm\" yang menghitung skor Z (Z-Score) untuk setiap nilai berdasarkan indeks.\n",
    "\n",
    "Menambahkan kolom \"PDF\" ke DataFrame \"Norm\" yang menghitung fungsi densitas probabilitas (PDF) berdasarkan skor Z.\n",
    "\n",
    "Setelah itu kita perlub menghitung korelasi antara kolom \"Data\" dan kolom \"Formula Z-Score\" menggunakan corr.\n",
    "\n",
    "Lalu Norm dan korelasi akan diprint dan dibawahnya akan ada dua kondisi ika nilai korelasi lebih besar dari 0.05, dicetak \"Hasil : Data Normal\", jika tidak, dicetak \"Hasil : Data Tidak Normal\".\n",
    "\n",
    "Terakhir kita akan Melakukan visualisasi dengan scatter plot yang menampilkan hubungan antara kolom \"Formula Z-Score\" dan kolom \"PDF\" dari DataFrame \"Norm\"."
   ]
  },
  {
   "attachments": {},
   "cell_type": "markdown",
   "metadata": {},
   "source": [
    "## UJI HOMOGENITAS"
   ]
  },
  {
   "cell_type": "code",
   "execution_count": 1298,
   "metadata": {},
   "outputs": [
    {
     "name": "stdout",
     "output_type": "stream",
     "text": [
      "Statistik Levene: 1.075096631695196\n",
      "Nilai P-Value: 0.45328258189966075\n",
      "Hasil Hipotesis Data Dapat Bernilai 0 (Homogen)\n"
     ]
    }
   ],
   "source": [
    "def levene_test(group1, group2):\n",
    "    n1 = len(group1)\n",
    "    n2 = len(group2)\n",
    "\n",
    "    mean1 = np.mean(group1)\n",
    "    mean2 = np.mean(group2)\n",
    "\n",
    "    squared_dev1 = np.square(group1 - mean1)\n",
    "    squared_dev2 = np.square(group2 - mean2)\n",
    "\n",
    "    variance1 = np.sum(squared_dev1) / (n1 - 1) if n1 > 1 else np.nan\n",
    "    variance2 = np.sum(squared_dev2) / (n2 - 1) if n2 > 1 else np.nan\n",
    "\n",
    "    if np.isnan(variance1) or np.isnan(variance2):\n",
    "        return np.nan, np.nan\n",
    "\n",
    "    statistic = (variance1 / variance2) if variance1 >= variance2 else (variance2 / variance1)\n",
    "    df1 = n1 - 1\n",
    "    df2 = n2 - 1\n",
    "\n",
    "    p_value = 1 - f.cdf(statistic, df1, df2)\n",
    "\n",
    "    return statistic, p_value\n",
    "\n",
    "statistic, pvalue = levene_test(group1, group2)\n",
    "\n",
    "print(\"Statistik Levene:\", statistic)\n",
    "print(\"Nilai P-Value:\", pvalue)\n",
    "\n",
    "alpha = 0.05\n",
    "if np.isnan(statistic) or np.isnan(pvalue):\n",
    "    print(\"Tidak dapat menghitung uji Levene\")\n",
    "elif pvalue > alpha:\n",
    "    print(\"Hasil Hipotesis Data Dapat Bernilai 0 (Homogen)\")\n",
    "else:\n",
    "    print(\"Hasil Hipotesis Data Tidak Dapat Bernilai 0 (Non-Homogen)\")"
   ]
  },
  {
   "attachments": {},
   "cell_type": "markdown",
   "metadata": {},
   "source": [
    "PENJELASAN UJI HOMOGENITAS:\n",
    "\n"
   ]
  },
  {
   "attachments": {},
   "cell_type": "markdown",
   "metadata": {},
   "source": [
    "Mendefinisikan fungsi levene_test yang menerima dua parameter: group1 dan group2. Fungsi ini akan mengembalikan statistik uji Levene dan nilai p-value.\n",
    "\n",
    "Menghitung jumlah data pada group1 dan group2 dengan menggunakan len() dan menyimpannya dalam variabel n1 dan n2.\n",
    "\n",
    "Menghitung rata-rata dari group1 dan group2 dengan menggunakan np.mean() dan menyimpannya dalam variabel mean1 dan mean2.\n",
    "\n",
    "Menghitung kuadrat selisih antara setiap nilai dalam group1 dan mean1, serta group2 dan mean2 dengan menggunakan np.square(). Hasilnya disimpan dalam variabel squared_dev1 dan squared_dev2.\n",
    "\n",
    "Menghitung variansi dari group1 dan group2 dengan membagi jumlah kuadrat selisih dengan (n-1), dimana n adalah jumlah data dalam kelompok. Variansinya disimpan dalam variabel variance1 dan variance2.\n",
    "\n",
    "Menghitung nilai statistik uji Levene dengan membandingkan varian maksimum dan varian minimum. Jika varian maksimum lebih besar atau sama dengan varian minimum, maka nilai statistik adalah varian maksimum dibagi varian minimum. Jika tidak, nilai statistik adalah varian minimum dibagi varian maksimum. Hasilnya disimpan dalam variabel statistic.\n",
    "\n",
    "Menghitung derajat kebebasan (degrees of freedom) dengan mengurangi 1 dari jumlah data dalam masing-masing kelompok. Derajat kebebasan disimpan dalam variabel df1 dan df2.\n",
    "\n",
    "Menghitung nilai p-value dengan menggunakan fungsi distribusi kumulatif F (cdf) dari paket scipy.stats.f. Nilai p-value didapatkan dengan menghitung area di ekor kanan distribusi F, yaitu 1 dikurangi cdf dari statistik uji dan derajat kebebasan. Nilai p-value disimpan dalam variabel p_value.\n",
    "\n",
    "Mencetak nilai statistik uji Levene dan nilai p-value dengan menggunakan perintah print(\"Statistik Levene:\", statistic) dan print(\"Nilai p:\", pvalue).\n",
    "\n",
    "Menetapkan tingkat signifikansi alpha yang akan digunakan untuk pengujian. Dalam kasus ini, alpha diatur sebagai 0.05.\n",
    "\n",
    "Melakukan pengujian kondisi if pvalue > alpha untuk mengevaluasi apakah nilai p-value lebih besar dari alpha. Jika ya, maka dicetak \"Tidak ada bukti yang cukup untuk menolak hipotesis nol (homogen)\". Jika tidak, dicetak \"Ada bukti yang cukup untuk menolak hipotesis nol (tidak homogen)\"."
   ]
  },
  {
   "attachments": {},
   "cell_type": "markdown",
   "metadata": {},
   "source": [
    "## === PROGRAM METODE CARLO ===="
   ]
  },
  {
   "attachments": {},
   "cell_type": "markdown",
   "metadata": {},
   "source": [
    "Disini kami melakukan perhitungan monte carlo berdasarkan jurnal yang kami ambil sebagai judul juga\n",
    "\n",
    "Jurnal ini berjudul \"Prediksi Pendapatan Terbesar pada Penjualan Produk Cat dengan\n",
    "Menggunakan Metode Monte Carlo\" dan pembuatnya adalah Bias Yulisa Geni, Julius Santony, Sumijan dari Universitas Putra Indonesia YPTK Padang"
   ]
  },
  {
   "cell_type": "code",
   "execution_count": 1299,
   "metadata": {},
   "outputs": [
    {
     "name": "stdout",
     "output_type": "stream",
     "text": [
      "[0.15, 0.23, 0.28, 0.41, 0.57, 0.61, 0.65, 0.7, 0.86, 0.89, 0.94, 0.99]\n"
     ]
    }
   ],
   "source": [
    "# Distribusi kumulatif permintaan\n",
    "demand_cumulative = []\n",
    "cumulative_sum = 0\n",
    "\n",
    "for probability in demand_probability:\n",
    "    cumulative_sum += probability\n",
    "    demand_cumulative.append(cumulative_sum)\n",
    "\n",
    "print([round(elem, 2) for elem in demand_cumulative])"
   ]
  },
  {
   "cell_type": "code",
   "execution_count": 1300,
   "metadata": {},
   "outputs": [],
   "source": [
    "# Menghitung total permintaan\n",
    "total_demand = sum([i for i in range(12)])\n",
    "\n",
    "# Simulasi selama 12 Bulan\n",
    "month = 12\n",
    "total_sales = 0"
   ]
  },
  {
   "cell_type": "code",
   "execution_count": 1301,
   "metadata": {},
   "outputs": [
    {
     "name": "stdout",
     "output_type": "stream",
     "text": [
      "Total Permintaan:  66\n"
     ]
    }
   ],
   "source": [
    "print(\"Total Permintaan: \", total_demand)"
   ]
  },
  {
   "cell_type": "code",
   "execution_count": 1302,
   "metadata": {},
   "outputs": [],
   "source": [
    "data_real = []\n",
    "total_real = 0\n",
    "\n",
    "for probability in group1:\n",
    "    total_real += probability\n",
    "    data_real.append(total_real)"
   ]
  },
  {
   "cell_type": "code",
   "execution_count": 1303,
   "metadata": {},
   "outputs": [
    {
     "name": "stdout",
     "output_type": "stream",
     "text": [
      "Penjualan per hari: [5, 11, 11, 3, 4, 3, 4, 6, 10, 0, 4, 10]\n",
      "Total penjualan dalam sebulan: 71\n"
     ]
    }
   ],
   "source": [
    "sales_per_day = []\n",
    "\n",
    "for day in range(month):\n",
    "    random_num = random.uniform(0, 1)\n",
    "    \n",
    "    demand = 0 \n",
    "    \n",
    "    for i in range(len(demand_cumulative)):\n",
    "        if random_num < demand_cumulative[i]:\n",
    "            demand = i\n",
    "            break\n",
    "    \n",
    "    sales_per_day.append(demand)\n",
    "\n",
    "print(\"Penjualan per hari:\", sales_per_day)\n",
    "\n",
    "total_sales = np.sum(sales_per_day)\n",
    "print(\"Total penjualan dalam sebulan:\", total_sales)\n"
   ]
  },
  {
   "attachments": {},
   "cell_type": "markdown",
   "metadata": {},
   "source": [
    "## DATA ASLI"
   ]
  },
  {
   "cell_type": "code",
   "execution_count": 1304,
   "metadata": {},
   "outputs": [
    {
     "name": "stdout",
     "output_type": "stream",
     "text": [
      "Total permintaan selama 12 bulan:  75\n",
      "Total pendapatan Rp.  11250000\n"
     ]
    }
   ],
   "source": [
    "print(\"Total permintaan selama 12 bulan: \", total_real)\n",
    "sum_real = total_real*150000\n",
    "print(\"Total pendapatan Rp. \",sum_real)"
   ]
  },
  {
   "attachments": {},
   "cell_type": "markdown",
   "metadata": {},
   "source": [
    "## SETELAH PERHITUNGAN MONTE CARLO"
   ]
  },
  {
   "cell_type": "code",
   "execution_count": 1305,
   "metadata": {},
   "outputs": [
    {
     "name": "stdout",
     "output_type": "stream",
     "text": [
      "Total permintaan selama 12 bulan:  71\n",
      "Total pendapatan Rp.  10650000\n"
     ]
    }
   ],
   "source": [
    "print(\"Total permintaan selama 12 bulan: \", total_sales)\n",
    "sum_monte = total_sales*150000\n",
    "print(\"Total pendapatan Rp. \",sum_monte)"
   ]
  },
  {
   "attachments": {},
   "cell_type": "markdown",
   "metadata": {},
   "source": [
    "## PERBANDINGAN KEDUA DATA"
   ]
  },
  {
   "cell_type": "code",
   "execution_count": 1306,
   "metadata": {},
   "outputs": [
    {
     "data": {
      "image/png": "[encoded data removed]",
      "text/plain": [
       "<Figure size 640x480 with 1 Axes>"
      ]
     },
     "metadata": {},
     "output_type": "display_data"
    }
   ],
   "source": [
    "x = np.arange(len(group1))\n",
    "width = 0.4\n",
    "\n",
    "fig, ax = plt.subplots()\n",
    "rects1 = ax.bar(x - width/2, group1, width, label='Data Asli')\n",
    "rects2 = ax.bar(x + width/2, sales_per_day, width, label='Data Monte Carlo')\n",
    "\n",
    "ax.set_ylabel('Jumlah')\n",
    "ax.set_title('Perbandingan Dua Penjualanan')\n",
    "ax.set_xticks(x)\n",
    "ax.set_xticklabels(x + 1)\n",
    "ax.legend()\n",
    "\n",
    "fig.tight_layout()\n",
    "\n",
    "plt.show()"
   ]
  },
  {
   "attachments": {},
   "cell_type": "markdown",
   "metadata": {},
   "source": [
    "## PERBANDINAN RATA-RATA KEDUA DATA"
   ]
  },
  {
   "cell_type": "code",
   "execution_count": 1307,
   "metadata": {},
   "outputs": [
    {
     "data": {
      "image/png": "[encoded data removed]",
      "text/plain": [
       "<Figure size 640x480 with 1 Axes>"
      ]
     },
     "metadata": {},
     "output_type": "display_data"
    }
   ],
   "source": [
    "data_labels = ['Data Asli', 'Data Monte Carlo']\n",
    "data = [total_real, total_sales]\n",
    "\n",
    "fig, ax = plt.subplots()\n",
    "ax.pie(data, labels=data_labels, autopct='%1.1f%%')\n",
    "ax.set_title('Perbandingan Dua Penjualan')\n",
    "\n",
    "plt.show()"
   ]
  },
  {
   "attachments": {},
   "cell_type": "markdown",
   "metadata": {},
   "source": [
    "## PERSENTASE HASIL PREDIKSI"
   ]
  },
  {
   "cell_type": "code",
   "execution_count": 1308,
   "metadata": {},
   "outputs": [
    {
     "name": "stdout",
     "output_type": "stream",
     "text": [
      "Akurasi Hasil Prediksi: 94.66666666666667 %\n"
     ]
    }
   ],
   "source": [
    "if total_sales > total_real:\n",
    "    predik = (total_real / total_sales) * 100\n",
    "else:\n",
    "    predik = (total_sales / total_real) * 100\n",
    "print(\"Akurasi Hasil Prediksi:\", predik, \"%\")"
   ]
  },
  {
   "attachments": {},
   "cell_type": "markdown",
   "metadata": {},
   "source": [
    "Setelah melakukan perhitungan monte carlo di atas kami melakukan proses pengujian. Disini kami memakai \"Uji Konvergensi\" di dalam melakukan pengujian dikarenakan kami ingin menghitung seberapa konvergen perhitungan \"Data Asli\" dengan perhitungan data \"Setelah Perhitungan Monte Carlo\". \n",
    "\n",
    "Dalam konteks ini, Uji konvergensi dapat digunakan untuk memeriksa sejauh mana perhitungan Monte Carlo mendekati solusi yang akurat saat jumlah sampel acak meningkat. Dengan meningkatkan jumlah sampel acak, perkiraan Monte Carlo akan cenderung konvergen ke solusi yang benar, dan uji konvergensi dapat membantu memantau tingkat kesalahan yang tersisa.\n",
    "\n",
    "Disini kami mengambil referensi pengujian konvergensi dari jurnal yang berjudul \"ANALISIS KONVERGENSI PERTUMBUHAN EKONOMI PROVINSI\n",
    "JAWA BARAT TAHUN 2007-2016\" yang dibuat oleh Muhammad Gyda Aulia, Dwi Budi Santoso dari Fakultas Ekonomi dan Bisnis, Universitas Brawijaya. disini mereka menguji tingkat ekonomi dari beberapa daerah.\n",
    "\n",
    "Sama seperti kami disini kami ingin menguji 2 data yaitu \"Data Asli\" dengan perhitungan data \"Setelah Perhitungan Monte Carlo\". "
   ]
  },
  {
   "attachments": {},
   "cell_type": "markdown",
   "metadata": {},
   "source": [
    "## UJI KONVERGENSI"
   ]
  },
  {
   "cell_type": "code",
   "execution_count": 1309,
   "metadata": {},
   "outputs": [
    {
     "name": "stdout",
     "output_type": "stream",
     "text": [
      "Perkiraan Perkembangan Penjualan Produk Cat Cenderung Secara Konvergen Lebih Lambat\n"
     ]
    }
   ],
   "source": [
    "def is_absolute_convergent(series1, series2):\n",
    "    absolute_series1 = np.abs(series1)\n",
    "    absolute_series2 = np.abs(series2)\n",
    "    \n",
    "    series1_sum = np.sum(absolute_series1)\n",
    "    series2_sum = np.sum(absolute_series2)\n",
    "    \n",
    "    if np.isfinite(series1_sum) and np.isfinite(series2_sum):\n",
    "        if series1_sum < series2_sum:\n",
    "            return \"Perkiraan Perkembangan Penjualan Produk Cat Cenderung Secara Konvergen Lebih Cepat\"\n",
    "        elif series2_sum < series1_sum:\n",
    "            return \"Perkiraan Perkembangan Penjualan Produk Cat Cenderung Secara Konvergen Lebih Lambat\"\n",
    "        else:\n",
    "            return \"Perkiraan Perkembangan Penjualan Produk Cat Cenderung Secara Konvergen Sama Cepat\"\n",
    "    else:\n",
    "        return \"Perkiraan Perkembangan Penjualan Produk Cat Cenderung Secara Konvergen Tidak Berkembang\"\n",
    "\n",
    "result = is_absolute_convergent(total_real, sales_per_day)\n",
    "print(result)\n"
   ]
  },
  {
   "cell_type": "code",
   "execution_count": 1310,
   "metadata": {},
   "outputs": [
    {
     "data": {
      "image/png": "[encoded data removed]",
      "text/plain": [
       "<Figure size 800x600 with 1 Axes>"
      ]
     },
     "metadata": {},
     "output_type": "display_data"
    }
   ],
   "source": [
    "monte_carlo_results = sales_per_day\n",
    "# Menghitung rata-rata per ulangan\n",
    "mean_results = np.mean(monte_carlo_results)\n",
    "\n",
    "# Menghitung variansi per ulangan\n",
    "variance_results = np.var(monte_carlo_results)\n",
    "\n",
    "# Menghitung moving average (rata-rata bergerak)\n",
    "moving_average = np.cumsum(monte_carlo_results) / np.arange(1, len(monte_carlo_results) + 1)\n",
    "\n",
    "# Plot hasil analisis konvergensi\n",
    "plt.figure(figsize=(8, 6))\n",
    "plt.plot(monte_carlo_results, 'b-', label='Hasil Monte Carlo')\n",
    "plt.axhline(y=mean_results, color='r', linestyle='--', label='Rata-rata')\n",
    "plt.plot(moving_average, 'g-', label='Moving Average')\n",
    "plt.xlabel('Jumlah Simulasi')\n",
    "plt.ylabel('Hasil')\n",
    "plt.title('Analisis Konvergensi Monte Carlo')\n",
    "plt.legend()\n",
    "plt.grid(True)\n",
    "plt.show()\n"
   ]
  },
  {
   "attachments": {},
   "cell_type": "markdown",
   "metadata": {},
   "source": [
    "PENJELASAN UJI KONVERGENSI"
   ]
  },
  {
   "attachments": {},
   "cell_type": "markdown",
   "metadata": {},
   "source": [
    "Variabel \"monte_carlo_results\" merupakan data hasil dari simulasi Monte Carlo yang sudah dilakukan sebelumnya. Data ini mewakili hasil penjualan per hari dari setiap simulasi.\n",
    "\n",
    "Menghitung rata-rata dari \"monte_carlo_results\" dengan menggunakan fungsi np.mean(). Rata-rata ini mencerminkan nilai yang diharapkan dari hasil penjualan.\n",
    "\n",
    "Menghitung variansi dari \"monte_carlo_results\" dengan menggunakan fungsi np.var(). Variansi ini menggambarkan seberapa bervariasinya hasil penjualan dalam setiap simulasi.\n",
    "\n",
    "Menghitung moving average (rata-rata bergerak) dari \"monte_carlo_results\". Moving average ini adalah rata-rata hasil penjualan yang dihitung dengan mengambil rata-rata kumulatif dari setiap simulasi.\n",
    "\n",
    "Melakukan visualisasi dengan menggunakan matplotlib untuk menggambarkan analisis konvergensi Monte Carlo. Hasil penjualan dalam setiap simulasi ditampilkan dalam garis biru. Garis merah yang putus-putus menunjukkan nilai rata-rata hasil penjualan. Garis hijau menunjukkan moving average dari hasil penjualan.\n",
    "\n",
    "Menambahkan label sumbu x dan sumbu y dengan menggunakan plt.xlabel() dan plt.ylabel(). Memberikan judul pada grafik dengan plt.title(). Menambahkan legenda dengan plt.legend() untuk menjelaskan masing-masing garis pada grafik. Menampilkan grid dengan plt.grid(True) untuk membantu membaca grafik yang dihasilkan.\n",
    "\n",
    "Terakhir, menampilkan grafik menggunakan plt.show()."
   ]
  },
  {
   "attachments": {},
   "cell_type": "markdown",
   "metadata": {},
   "source": [
    "## KESIMPULAN"
   ]
  },
  {
   "attachments": {},
   "cell_type": "markdown",
   "metadata": {},
   "source": [
    "Berdasarkan dari proses perhitungan sebelumnya yang telah dilakukan oleh penulis, maka penulis membuat\n",
    "kesimpulan bahwa :\n",
    "\n",
    "1.  Dari hasil dan pembahasan dapat diketahui tingkat akurasi prediksi pendapatan penjualan produk cat\n",
    "    Lenkote Supersilk untuk tahun 2017, dimana dalam satu bulan terdapat transaksi penjualan produk cat\n",
    "    sebanyak 15 produk adalah sebesar 84,3%. Untuk tingkat akurasi seluruh penjualan produk cat adalah 89\n",
    "    %. Dari hasil tersebut, diambil kesimpulan bahwa metode monte carlo dapat melakukan prediksi\n",
    "    pendapatan penjualan produk cat.\n",
    "\n",
    "2.  Dengan berhasilnya penerapan metode monte carlo dalam memprediksi pendapatan penjualan produk\n",
    "    maka akan memberikan kemudahan pada pihak pimpinan di Toko bangunan UD. Masdi untuk\n",
    "    mengetahui jumlah pendapatan penjualan produk cat dengan cepat sehingga membantu pihak\n",
    "    pimpinan untuk mengambil keputusan dalam pengambilan ketersediaan produk cat yang dapat dilihat\n",
    "    pada proses simulasi menunjukkan produk cat mana yang memberikan pendapatan penjualan yang lebih tinggi.\n",
    "\n",
    "3.  Dari hasil pengujian di atas setelah mencari 3 nilai yaitu hasil monte carlo, rata-rata, dan moving average kita bisa melihat seberapa      konvergen data asli dengan data setelah perhitungan monte carlo. dikarenakan perhitungan monte carlo menggunakan bilangan acak jadi setiap kami melakukan perhitungan maka hasilnya berubah-ubah. Setelah melakukan beberapa perhitungan dan pengujian serta memerhatikan grafik uji konvergen kami mendapatkan hasil pengujian yang paling konvergen yakni __%\n",
    "    \n"
   ]
  }
 ],
 "metadata": {
  "kernelspec": {
   "display_name": "Python 3",
   "language": "python",
   "name": "python3"
  },
  "language_info": {
   "codemirror_mode": {
    "name": "ipython",
    "version": 3
   },
   "file_extension": ".py",
   "mimetype": "text/x-python",
   "name": "python",
   "nbconvert_exporter": "python",
   "pygments_lexer": "ipython3",
   "version": "3.11.2"
  },
  "orig_nbformat": 4
 },
 "nbformat": 4,
 "nbformat_minor": 2
}
